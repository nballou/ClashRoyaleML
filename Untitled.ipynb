{
 "cells": [
  {
   "cell_type": "code",
   "execution_count": 2,
   "metadata": {},
   "outputs": [],
   "source": [
    "import pathlib\n",
    "\n",
    "import pandas as pd"
   ]
  },
  {
   "cell_type": "code",
   "execution_count": 3,
   "metadata": {},
   "outputs": [
    {
     "name": "stdout",
     "output_type": "stream",
     "text": [
      "/Users/sebastianberns/IGGI/Modules/4 Methods & Data 2/ClashRoyaleML\n"
     ]
    }
   ],
   "source": [
    "BASE = pathlib.Path.cwd()\n",
    "print(BASE)"
   ]
  },
  {
   "cell_type": "code",
   "execution_count": 5,
   "metadata": {},
   "outputs": [],
   "source": [
    "df = pd.read_csv(BASE/'data_clean'/'matches_10000.csv')"
   ]
  },
  {
   "cell_type": "code",
   "execution_count": 6,
   "metadata": {},
   "outputs": [
    {
     "data": {
      "text/html": [
       "<div>\n",
       "<style scoped>\n",
       "    .dataframe tbody tr th:only-of-type {\n",
       "        vertical-align: middle;\n",
       "    }\n",
       "\n",
       "    .dataframe tbody tr th {\n",
       "        vertical-align: top;\n",
       "    }\n",
       "\n",
       "    .dataframe thead th {\n",
       "        text-align: right;\n",
       "    }\n",
       "</style>\n",
       "<table border=\"1\" class=\"dataframe\">\n",
       "  <thead>\n",
       "    <tr style=\"text-align: right;\">\n",
       "      <th></th>\n",
       "      <th>Unnamed: 0</th>\n",
       "      <th>type</th>\n",
       "      <th>result</th>\n",
       "      <th>time</th>\n",
       "      <th>players.right.deck</th>\n",
       "      <th>players.right.trophy</th>\n",
       "      <th>players.right.clan</th>\n",
       "      <th>players.right.name</th>\n",
       "      <th>players.left.deck</th>\n",
       "      <th>players.left.trophy</th>\n",
       "      <th>players.left.clan</th>\n",
       "      <th>players.left.name</th>\n",
       "    </tr>\n",
       "  </thead>\n",
       "  <tbody>\n",
       "    <tr>\n",
       "      <th>0</th>\n",
       "      <td>0</td>\n",
       "      <td>ladder</td>\n",
       "      <td>['2', '0']</td>\n",
       "      <td>2017-07-12</td>\n",
       "      <td>[['Mega Minion', '9'], ['Electro Wizard', '3']...</td>\n",
       "      <td>4258</td>\n",
       "      <td>TwoFiveOne</td>\n",
       "      <td>gpa raid</td>\n",
       "      <td>[['Fireball', '9'], ['Archers', '12'], ['Gobli...</td>\n",
       "      <td>4325</td>\n",
       "      <td>battusai</td>\n",
       "      <td>Supr4</td>\n",
       "    </tr>\n",
       "    <tr>\n",
       "      <th>1</th>\n",
       "      <td>1</td>\n",
       "      <td>ladder</td>\n",
       "      <td>['1', '0']</td>\n",
       "      <td>2017-07-12</td>\n",
       "      <td>[['Ice Spirit', '10'], ['Valkyrie', '9'], ['Ho...</td>\n",
       "      <td>4237</td>\n",
       "      <td>The Wolves</td>\n",
       "      <td>TITAN</td>\n",
       "      <td>[['Royal Giant', '13'], ['Ice Wizard', '2'], [...</td>\n",
       "      <td>4296</td>\n",
       "      <td>battusai</td>\n",
       "      <td>Supr4</td>\n",
       "    </tr>\n",
       "    <tr>\n",
       "      <th>2</th>\n",
       "      <td>2</td>\n",
       "      <td>ladder</td>\n",
       "      <td>['0', '1']</td>\n",
       "      <td>2017-07-12</td>\n",
       "      <td>[['Miner', '3'], ['Ice Golem', '9'], ['Spear G...</td>\n",
       "      <td>4300</td>\n",
       "      <td>@LA PERLA NEGRA</td>\n",
       "      <td>Victor</td>\n",
       "      <td>[['Royal Giant', '13'], ['Ice Wizard', '2'], [...</td>\n",
       "      <td>4267</td>\n",
       "      <td>battusai</td>\n",
       "      <td>Supr4</td>\n",
       "    </tr>\n",
       "    <tr>\n",
       "      <th>3</th>\n",
       "      <td>3</td>\n",
       "      <td>ladder</td>\n",
       "      <td>['1', '0']</td>\n",
       "      <td>2017-07-12</td>\n",
       "      <td>[['Golem', '6'], ['Zap', '12'], ['The Log', '2...</td>\n",
       "      <td>4240</td>\n",
       "      <td>ADAMLAR</td>\n",
       "      <td>toprak</td>\n",
       "      <td>[['Royal Giant', '13'], ['Ice Wizard', '2'], [...</td>\n",
       "      <td>4299</td>\n",
       "      <td>battusai</td>\n",
       "      <td>Supr4</td>\n",
       "    </tr>\n",
       "    <tr>\n",
       "      <th>4</th>\n",
       "      <td>4</td>\n",
       "      <td>ladder</td>\n",
       "      <td>['1', '1']</td>\n",
       "      <td>2017-07-12</td>\n",
       "      <td>[['Baby Dragon', '6'], ['Ice Spirit', '12'], [...</td>\n",
       "      <td>4628</td>\n",
       "      <td>帝愛</td>\n",
       "      <td>兵藤 和尊</td>\n",
       "      <td>[['Graveyard', '3'], ['Ice Wizard', '3'], ['Za...</td>\n",
       "      <td>4598</td>\n",
       "      <td>Nova l Imperio</td>\n",
       "      <td>ACM1PT!</td>\n",
       "    </tr>\n",
       "  </tbody>\n",
       "</table>\n",
       "</div>"
      ],
      "text/plain": [
       "   Unnamed: 0    type      result        time  \\\n",
       "0           0  ladder  ['2', '0']  2017-07-12   \n",
       "1           1  ladder  ['1', '0']  2017-07-12   \n",
       "2           2  ladder  ['0', '1']  2017-07-12   \n",
       "3           3  ladder  ['1', '0']  2017-07-12   \n",
       "4           4  ladder  ['1', '1']  2017-07-12   \n",
       "\n",
       "                                  players.right.deck  players.right.trophy  \\\n",
       "0  [['Mega Minion', '9'], ['Electro Wizard', '3']...                  4258   \n",
       "1  [['Ice Spirit', '10'], ['Valkyrie', '9'], ['Ho...                  4237   \n",
       "2  [['Miner', '3'], ['Ice Golem', '9'], ['Spear G...                  4300   \n",
       "3  [['Golem', '6'], ['Zap', '12'], ['The Log', '2...                  4240   \n",
       "4  [['Baby Dragon', '6'], ['Ice Spirit', '12'], [...                  4628   \n",
       "\n",
       "  players.right.clan players.right.name  \\\n",
       "0         TwoFiveOne           gpa raid   \n",
       "1         The Wolves              TITAN   \n",
       "2    @LA PERLA NEGRA             Victor   \n",
       "3            ADAMLAR             toprak   \n",
       "4                 帝愛              兵藤 和尊   \n",
       "\n",
       "                                   players.left.deck  players.left.trophy  \\\n",
       "0  [['Fireball', '9'], ['Archers', '12'], ['Gobli...                 4325   \n",
       "1  [['Royal Giant', '13'], ['Ice Wizard', '2'], [...                 4296   \n",
       "2  [['Royal Giant', '13'], ['Ice Wizard', '2'], [...                 4267   \n",
       "3  [['Royal Giant', '13'], ['Ice Wizard', '2'], [...                 4299   \n",
       "4  [['Graveyard', '3'], ['Ice Wizard', '3'], ['Za...                 4598   \n",
       "\n",
       "  players.left.clan players.left.name  \n",
       "0          battusai             Supr4  \n",
       "1          battusai             Supr4  \n",
       "2          battusai             Supr4  \n",
       "3          battusai             Supr4  \n",
       "4    Nova l Imperio           ACM1PT!  "
      ]
     },
     "execution_count": 6,
     "metadata": {},
     "output_type": "execute_result"
    }
   ],
   "source": [
    "df.head()"
   ]
  },
  {
   "cell_type": "code",
   "execution_count": null,
   "metadata": {},
   "outputs": [],
   "source": []
  }
 ],
 "metadata": {
  "kernelspec": {
   "display_name": "Python 3",
   "language": "python",
   "name": "python3"
  },
  "language_info": {
   "codemirror_mode": {
    "name": "ipython",
    "version": 3
   },
   "file_extension": ".py",
   "mimetype": "text/x-python",
   "name": "python",
   "nbconvert_exporter": "python",
   "pygments_lexer": "ipython3",
   "version": "3.7.3"
  }
 },
 "nbformat": 4,
 "nbformat_minor": 4
}
