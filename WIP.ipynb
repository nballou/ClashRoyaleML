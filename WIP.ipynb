{
 "cells": [
  {
   "cell_type": "code",
   "execution_count": 1,
   "metadata": {},
   "outputs": [],
   "source": [
    "import pathlib\n",
    "\n",
    "import numpy as np\n",
    "import pandas as pd"
   ]
  },
  {
   "cell_type": "code",
   "execution_count": 2,
   "metadata": {},
   "outputs": [
    {
     "name": "stdout",
     "output_type": "stream",
     "text": [
      "/Users/sebastianberns/IGGI/Modules/4 Methods & Data 2/Project/ClashRoyaleML\n"
     ]
    }
   ],
   "source": [
    "BASE = pathlib.Path.cwd()\n",
    "print(BASE)"
   ]
  },
  {
   "cell_type": "code",
   "execution_count": 3,
   "metadata": {},
   "outputs": [],
   "source": [
    "df_train = pd.read_csv(BASE/'data_clean'/'processed_split_seed112_test.csv')\n",
    "# df_train.columns.values"
   ]
  },
  {
   "cell_type": "code",
   "execution_count": 4,
   "metadata": {},
   "outputs": [
    {
     "data": {
      "text/html": [
       "<div>\n",
       "<style scoped>\n",
       "    .dataframe tbody tr th:only-of-type {\n",
       "        vertical-align: middle;\n",
       "    }\n",
       "\n",
       "    .dataframe tbody tr th {\n",
       "        vertical-align: top;\n",
       "    }\n",
       "\n",
       "    .dataframe thead th {\n",
       "        text-align: right;\n",
       "    }\n",
       "</style>\n",
       "<table border=\"1\" class=\"dataframe\">\n",
       "  <thead>\n",
       "    <tr style=\"text-align: right;\">\n",
       "      <th></th>\n",
       "      <th>Unnamed: 0</th>\n",
       "      <th>Unnamed: 0.1</th>\n",
       "      <th>X</th>\n",
       "      <th>type</th>\n",
       "      <th>result</th>\n",
       "      <th>time</th>\n",
       "      <th>players.right.deck</th>\n",
       "      <th>players.right.trophy</th>\n",
       "      <th>players.right.clan</th>\n",
       "      <th>players.right.name</th>\n",
       "      <th>...</th>\n",
       "      <th>Sparky_R_lvl</th>\n",
       "      <th>Lava_Hound_L</th>\n",
       "      <th>Lava_Hound_R</th>\n",
       "      <th>Lava_Hound_L_lvl</th>\n",
       "      <th>Lava_Hound_R_lvl</th>\n",
       "      <th>num_cards_L</th>\n",
       "      <th>num_cards_R</th>\n",
       "      <th>avg_lvl_L</th>\n",
       "      <th>avg_lvl_R</th>\n",
       "      <th>level_discrepancy</th>\n",
       "    </tr>\n",
       "  </thead>\n",
       "  <tbody>\n",
       "    <tr>\n",
       "      <th>0</th>\n",
       "      <td>25723</td>\n",
       "      <td>50771</td>\n",
       "      <td>50770</td>\n",
       "      <td>ladder</td>\n",
       "      <td>['1', '3']</td>\n",
       "      <td>14.07.17</td>\n",
       "      <td>[['Lava Hound', '3'], ['Zap', '12'], ['Firebal...</td>\n",
       "      <td>4452</td>\n",
       "      <td>FRIKIEMEX :V</td>\n",
       "      <td>Jokin</td>\n",
       "      <td>...</td>\n",
       "      <td>-1.0</td>\n",
       "      <td>0</td>\n",
       "      <td>1</td>\n",
       "      <td>-1.0</td>\n",
       "      <td>11.0</td>\n",
       "      <td>8</td>\n",
       "      <td>8</td>\n",
       "      <td>11.250</td>\n",
       "      <td>11.125</td>\n",
       "      <td>0.125</td>\n",
       "    </tr>\n",
       "    <tr>\n",
       "      <th>1</th>\n",
       "      <td>198571</td>\n",
       "      <td>377829</td>\n",
       "      <td>377828</td>\n",
       "      <td>ladder</td>\n",
       "      <td>['1', '0']</td>\n",
       "      <td>16.07.17</td>\n",
       "      <td>[['Golem', '7'], ['Elixir Collector', '10'], [...</td>\n",
       "      <td>5063</td>\n",
       "      <td>Syndikaatti</td>\n",
       "      <td>Moge</td>\n",
       "      <td>...</td>\n",
       "      <td>-1.0</td>\n",
       "      <td>0</td>\n",
       "      <td>0</td>\n",
       "      <td>-1.0</td>\n",
       "      <td>-1.0</td>\n",
       "      <td>8</td>\n",
       "      <td>8</td>\n",
       "      <td>12.750</td>\n",
       "      <td>12.250</td>\n",
       "      <td>0.500</td>\n",
       "    </tr>\n",
       "    <tr>\n",
       "      <th>2</th>\n",
       "      <td>69543</td>\n",
       "      <td>133263</td>\n",
       "      <td>133262</td>\n",
       "      <td>ladder</td>\n",
       "      <td>['1', '0']</td>\n",
       "      <td>17.07.17</td>\n",
       "      <td>[['Hog Rider', '11'], ['Tornado', '7'], ['Knig...</td>\n",
       "      <td>5012</td>\n",
       "      <td>Aesthetics crew</td>\n",
       "      <td>Nakata</td>\n",
       "      <td>...</td>\n",
       "      <td>-1.0</td>\n",
       "      <td>0</td>\n",
       "      <td>0</td>\n",
       "      <td>-1.0</td>\n",
       "      <td>-1.0</td>\n",
       "      <td>8</td>\n",
       "      <td>8</td>\n",
       "      <td>13.000</td>\n",
       "      <td>12.250</td>\n",
       "      <td>0.750</td>\n",
       "    </tr>\n",
       "    <tr>\n",
       "      <th>3</th>\n",
       "      <td>368769</td>\n",
       "      <td>690859</td>\n",
       "      <td>690858</td>\n",
       "      <td>ladder</td>\n",
       "      <td>['2', '1']</td>\n",
       "      <td>31.07.17</td>\n",
       "      <td>[['Minion Horde', '12'], ['The Log', '3'], ['F...</td>\n",
       "      <td>4845</td>\n",
       "      <td>冰与火之歌</td>\n",
       "      <td>冰与火之歌</td>\n",
       "      <td>...</td>\n",
       "      <td>-1.0</td>\n",
       "      <td>0</td>\n",
       "      <td>1</td>\n",
       "      <td>-1.0</td>\n",
       "      <td>11.0</td>\n",
       "      <td>8</td>\n",
       "      <td>8</td>\n",
       "      <td>11.125</td>\n",
       "      <td>11.375</td>\n",
       "      <td>-0.250</td>\n",
       "    </tr>\n",
       "    <tr>\n",
       "      <th>4</th>\n",
       "      <td>171410</td>\n",
       "      <td>327501</td>\n",
       "      <td>327500</td>\n",
       "      <td>ladder</td>\n",
       "      <td>['0', '1']</td>\n",
       "      <td>14.07.17</td>\n",
       "      <td>[['Hog Rider', '11'], ['Tornado', '7'], ['Prin...</td>\n",
       "      <td>5281</td>\n",
       "      <td>Silent</td>\n",
       "      <td>Moonlight ✨</td>\n",
       "      <td>...</td>\n",
       "      <td>-1.0</td>\n",
       "      <td>0</td>\n",
       "      <td>0</td>\n",
       "      <td>-1.0</td>\n",
       "      <td>-1.0</td>\n",
       "      <td>8</td>\n",
       "      <td>8</td>\n",
       "      <td>12.875</td>\n",
       "      <td>12.875</td>\n",
       "      <td>0.000</td>\n",
       "    </tr>\n",
       "  </tbody>\n",
       "</table>\n",
       "<p>5 rows × 327 columns</p>\n",
       "</div>"
      ],
      "text/plain": [
       "   Unnamed: 0  Unnamed: 0.1       X    type      result      time  \\\n",
       "0       25723         50771   50770  ladder  ['1', '3']  14.07.17   \n",
       "1      198571        377829  377828  ladder  ['1', '0']  16.07.17   \n",
       "2       69543        133263  133262  ladder  ['1', '0']  17.07.17   \n",
       "3      368769        690859  690858  ladder  ['2', '1']  31.07.17   \n",
       "4      171410        327501  327500  ladder  ['0', '1']  14.07.17   \n",
       "\n",
       "                                  players.right.deck  players.right.trophy  \\\n",
       "0  [['Lava Hound', '3'], ['Zap', '12'], ['Firebal...                  4452   \n",
       "1  [['Golem', '7'], ['Elixir Collector', '10'], [...                  5063   \n",
       "2  [['Hog Rider', '11'], ['Tornado', '7'], ['Knig...                  5012   \n",
       "3  [['Minion Horde', '12'], ['The Log', '3'], ['F...                  4845   \n",
       "4  [['Hog Rider', '11'], ['Tornado', '7'], ['Prin...                  5281   \n",
       "\n",
       "  players.right.clan players.right.name  ... Sparky_R_lvl  Lava_Hound_L  \\\n",
       "0       FRIKIEMEX :V              Jokin  ...         -1.0             0   \n",
       "1        Syndikaatti               Moge  ...         -1.0             0   \n",
       "2    Aesthetics crew             Nakata  ...         -1.0             0   \n",
       "3              冰与火之歌              冰与火之歌  ...         -1.0             0   \n",
       "4             Silent        Moonlight ✨  ...         -1.0             0   \n",
       "\n",
       "  Lava_Hound_R Lava_Hound_L_lvl  Lava_Hound_R_lvl  num_cards_L num_cards_R  \\\n",
       "0            1             -1.0              11.0            8           8   \n",
       "1            0             -1.0              -1.0            8           8   \n",
       "2            0             -1.0              -1.0            8           8   \n",
       "3            1             -1.0              11.0            8           8   \n",
       "4            0             -1.0              -1.0            8           8   \n",
       "\n",
       "   avg_lvl_L  avg_lvl_R  level_discrepancy  \n",
       "0     11.250     11.125              0.125  \n",
       "1     12.750     12.250              0.500  \n",
       "2     13.000     12.250              0.750  \n",
       "3     11.125     11.375             -0.250  \n",
       "4     12.875     12.875              0.000  \n",
       "\n",
       "[5 rows x 327 columns]"
      ]
     },
     "execution_count": 4,
     "metadata": {},
     "output_type": "execute_result"
    }
   ],
   "source": [
    "df_train.fillna(-1.0, inplace=True)\n",
    "df_train.head()"
   ]
  },
  {
   "cell_type": "code",
   "execution_count": 5,
   "metadata": {},
   "outputs": [],
   "source": [
    "cols_labels = ['winner']\n",
    "cols_features = ['trophy.discrepancy']"
   ]
  },
  {
   "cell_type": "code",
   "execution_count": 6,
   "metadata": {},
   "outputs": [],
   "source": [
    "X = df_train[cols_features].to_numpy()"
   ]
  },
  {
   "cell_type": "code",
   "execution_count": 7,
   "metadata": {},
   "outputs": [],
   "source": [
    "# Map target values\n",
    "# 'left': 0\n",
    "# 'right': 1\n",
    "y = np.ravel(np.where( df_train[cols_labels] == 'left', 0, 1 ))"
   ]
  },
  {
   "cell_type": "code",
   "execution_count": 22,
   "metadata": {},
   "outputs": [],
   "source": [
    "a = -0.09757535\n",
    "b = 0.00427509\n",
    "\n",
    "def z(x):\n",
    "    return a*x + b"
   ]
  },
  {
   "cell_type": "code",
   "execution_count": 9,
   "metadata": {},
   "outputs": [],
   "source": [
    "import matplotlib.pyplot as plt\n",
    "%matplotlib inline"
   ]
  },
  {
   "cell_type": "code",
   "execution_count": 26,
   "metadata": {},
   "outputs": [
    {
     "data": {
      "text/plain": [
       "[<matplotlib.lines.Line2D at 0x11fa3f860>]"
      ]
     },
     "execution_count": 26,
     "metadata": {},
     "output_type": "execute_result"
    },
    {
     "data": {
      "image/png": "[encoded data removed]",
      "text/plain": [
       "<Figure size 432x288 with 1 Axes>"
      ]
     },
     "metadata": {
      "needs_background": "light"
     },
     "output_type": "display_data"
    }
   ],
   "source": [
    "fig, ax = plt.subplots()\n",
    "#ax.set_title(label)\n",
    "ax.set_ylim(-1,+2)\n",
    "ax.scatter(X, y, c=y, marker='x', cmap='winter', linewidth=1)\n",
    "ax.plot([X.min(), X.max()], [z(X.min()), z(X.max())], c='r', linewidth=1)"
   ]
  },
  {
   "cell_type": "code",
   "execution_count": null,
   "metadata": {},
   "outputs": [],
   "source": []
  }
 ],
 "metadata": {
  "kernelspec": {
   "display_name": "Python 3",
   "language": "python",
   "name": "python3"
  },
  "language_info": {
   "codemirror_mode": {
    "name": "ipython",
    "version": 3
   },
   "file_extension": ".py",
   "mimetype": "text/x-python",
   "name": "python",
   "nbconvert_exporter": "python",
   "pygments_lexer": "ipython3",
   "version": "3.7.3"
  }
 },
 "nbformat": 4,
 "nbformat_minor": 4
}
