{
 "cells": [
  {
   "cell_type": "code",
   "execution_count": 1,
   "metadata": {},
   "outputs": [],
   "source": [
    "import pathlib\n",
    "\n",
    "import numpy as np\n",
    "import pandas as pd"
   ]
  },
  {
   "cell_type": "code",
   "execution_count": 2,
   "metadata": {},
   "outputs": [
    {
     "name": "stdout",
     "output_type": "stream",
     "text": [
      "/Users/sebastianberns/IGGI/Modules/4 Methods & Data 2/Project/ClashRoyaleML\n"
     ]
    }
   ],
   "source": [
    "BASE = pathlib.Path.cwd()\n",
    "print(BASE)"
   ]
  },
  {
   "cell_type": "code",
   "execution_count": 3,
   "metadata": {},
   "outputs": [
    {
     "data": {
      "text/plain": [
       "Index(['Unnamed: 0', 'Unnamed: 0.1', 'X', 'type', 'result', 'time',\n",
       "       'players.right.deck', 'players.right.trophy', 'players.right.clan',\n",
       "       'players.right.name',\n",
       "       ...\n",
       "       'Sparky_R_lvl', 'Lava_Hound_L', 'Lava_Hound_R', 'Lava_Hound_L_lvl',\n",
       "       'Lava_Hound_R_lvl', 'num_cards_L', 'num_cards_R', 'avg_lvl_L',\n",
       "       'avg_lvl_R', 'level_discrepancy'],\n",
       "      dtype='object', length=327)"
      ]
     },
     "execution_count": 3,
     "metadata": {},
     "output_type": "execute_result"
    }
   ],
   "source": [
    "df_train = pd.read_csv(BASE/'data_clean'/'processed_split_train.csv')\n",
    "df_train.columns.values"
   ]
  },
  {
   "cell_type": "code",
   "execution_count": 20,
   "metadata": {},
   "outputs": [
    {
     "data": {
      "text/html": [
       "<div>\n",
       "<style scoped>\n",
       "    .dataframe tbody tr th:only-of-type {\n",
       "        vertical-align: middle;\n",
       "    }\n",
       "\n",
       "    .dataframe tbody tr th {\n",
       "        vertical-align: top;\n",
       "    }\n",
       "\n",
       "    .dataframe thead th {\n",
       "        text-align: right;\n",
       "    }\n",
       "</style>\n",
       "<table border=\"1\" class=\"dataframe\">\n",
       "  <thead>\n",
       "    <tr style=\"text-align: right;\">\n",
       "      <th></th>\n",
       "      <th>Unnamed: 0</th>\n",
       "      <th>Unnamed: 0.1</th>\n",
       "      <th>X</th>\n",
       "      <th>type</th>\n",
       "      <th>result</th>\n",
       "      <th>time</th>\n",
       "      <th>players.right.deck</th>\n",
       "      <th>players.right.trophy</th>\n",
       "      <th>players.right.clan</th>\n",
       "      <th>players.right.name</th>\n",
       "      <th>...</th>\n",
       "      <th>Sparky_R_lvl</th>\n",
       "      <th>Lava_Hound_L</th>\n",
       "      <th>Lava_Hound_R</th>\n",
       "      <th>Lava_Hound_L_lvl</th>\n",
       "      <th>Lava_Hound_R_lvl</th>\n",
       "      <th>num_cards_L</th>\n",
       "      <th>num_cards_R</th>\n",
       "      <th>avg_lvl_L</th>\n",
       "      <th>avg_lvl_R</th>\n",
       "      <th>level_discrepancy</th>\n",
       "    </tr>\n",
       "  </thead>\n",
       "  <tbody>\n",
       "    <tr>\n",
       "      <th>0</th>\n",
       "      <td>19457</td>\n",
       "      <td>38470</td>\n",
       "      <td>38469</td>\n",
       "      <td>ladder</td>\n",
       "      <td>['2', '0']</td>\n",
       "      <td>13.07.17</td>\n",
       "      <td>[['Golem', '5'], ['Lightning', '5'], ['The Log...</td>\n",
       "      <td>4328</td>\n",
       "      <td>Conclusion™</td>\n",
       "      <td>Zer0</td>\n",
       "      <td>...</td>\n",
       "      <td>-1.0</td>\n",
       "      <td>0</td>\n",
       "      <td>0</td>\n",
       "      <td>-1.0</td>\n",
       "      <td>-1.0</td>\n",
       "      <td>8</td>\n",
       "      <td>8</td>\n",
       "      <td>10.75</td>\n",
       "      <td>10.250</td>\n",
       "      <td>0.500</td>\n",
       "    </tr>\n",
       "    <tr>\n",
       "      <th>1</th>\n",
       "      <td>294228</td>\n",
       "      <td>558764</td>\n",
       "      <td>558763</td>\n",
       "      <td>ladder</td>\n",
       "      <td>['3', '1']</td>\n",
       "      <td>27.07.17</td>\n",
       "      <td>[['Knight', '13'], ['Ice Spirit', '13'], ['Ske...</td>\n",
       "      <td>5125</td>\n",
       "      <td>Giants Takers</td>\n",
       "      <td>Gámez7</td>\n",
       "      <td>...</td>\n",
       "      <td>-1.0</td>\n",
       "      <td>1</td>\n",
       "      <td>0</td>\n",
       "      <td>11.0</td>\n",
       "      <td>-1.0</td>\n",
       "      <td>8</td>\n",
       "      <td>8</td>\n",
       "      <td>12.25</td>\n",
       "      <td>12.500</td>\n",
       "      <td>-0.250</td>\n",
       "    </tr>\n",
       "    <tr>\n",
       "      <th>2</th>\n",
       "      <td>74097</td>\n",
       "      <td>142026</td>\n",
       "      <td>142025</td>\n",
       "      <td>ladder</td>\n",
       "      <td>['1', '0']</td>\n",
       "      <td>17.07.17</td>\n",
       "      <td>[['Knight', '13'], ['Miner', '4'], ['Minion Ho...</td>\n",
       "      <td>5236</td>\n",
       "      <td>Clout Gaming</td>\n",
       "      <td>Happy Light</td>\n",
       "      <td>...</td>\n",
       "      <td>-1.0</td>\n",
       "      <td>0</td>\n",
       "      <td>0</td>\n",
       "      <td>-1.0</td>\n",
       "      <td>-1.0</td>\n",
       "      <td>8</td>\n",
       "      <td>8</td>\n",
       "      <td>12.75</td>\n",
       "      <td>12.875</td>\n",
       "      <td>-0.125</td>\n",
       "    </tr>\n",
       "    <tr>\n",
       "      <th>3</th>\n",
       "      <td>123832</td>\n",
       "      <td>236350</td>\n",
       "      <td>236349</td>\n",
       "      <td>ladder</td>\n",
       "      <td>['0', '1']</td>\n",
       "      <td>19.07.17</td>\n",
       "      <td>[['Princess', '4'], ['The Log', '3'], ['Infern...</td>\n",
       "      <td>4981</td>\n",
       "      <td>北京龙皇会</td>\n",
       "      <td>so ez</td>\n",
       "      <td>...</td>\n",
       "      <td>-1.0</td>\n",
       "      <td>0</td>\n",
       "      <td>0</td>\n",
       "      <td>-1.0</td>\n",
       "      <td>-1.0</td>\n",
       "      <td>8</td>\n",
       "      <td>8</td>\n",
       "      <td>13.00</td>\n",
       "      <td>12.000</td>\n",
       "      <td>1.000</td>\n",
       "    </tr>\n",
       "    <tr>\n",
       "      <th>4</th>\n",
       "      <td>208491</td>\n",
       "      <td>396435</td>\n",
       "      <td>396434</td>\n",
       "      <td>ladder</td>\n",
       "      <td>['0', '1']</td>\n",
       "      <td>16.07.17</td>\n",
       "      <td>[['Fire Spirits', '12'], ['The Log', '3'], ['M...</td>\n",
       "      <td>4776</td>\n",
       "      <td>INDO Assault</td>\n",
       "      <td>ZEUS⤴</td>\n",
       "      <td>...</td>\n",
       "      <td>-1.0</td>\n",
       "      <td>0</td>\n",
       "      <td>0</td>\n",
       "      <td>-1.0</td>\n",
       "      <td>-1.0</td>\n",
       "      <td>8</td>\n",
       "      <td>8</td>\n",
       "      <td>12.25</td>\n",
       "      <td>12.000</td>\n",
       "      <td>0.250</td>\n",
       "    </tr>\n",
       "  </tbody>\n",
       "</table>\n",
       "<p>5 rows × 327 columns</p>\n",
       "</div>"
      ],
      "text/plain": [
       "   Unnamed: 0  Unnamed: 0.1       X    type      result      time  \\\n",
       "0       19457         38470   38469  ladder  ['2', '0']  13.07.17   \n",
       "1      294228        558764  558763  ladder  ['3', '1']  27.07.17   \n",
       "2       74097        142026  142025  ladder  ['1', '0']  17.07.17   \n",
       "3      123832        236350  236349  ladder  ['0', '1']  19.07.17   \n",
       "4      208491        396435  396434  ladder  ['0', '1']  16.07.17   \n",
       "\n",
       "                                  players.right.deck  players.right.trophy  \\\n",
       "0  [['Golem', '5'], ['Lightning', '5'], ['The Log...                  4328   \n",
       "1  [['Knight', '13'], ['Ice Spirit', '13'], ['Ske...                  5125   \n",
       "2  [['Knight', '13'], ['Miner', '4'], ['Minion Ho...                  5236   \n",
       "3  [['Princess', '4'], ['The Log', '3'], ['Infern...                  4981   \n",
       "4  [['Fire Spirits', '12'], ['The Log', '3'], ['M...                  4776   \n",
       "\n",
       "  players.right.clan players.right.name  ... Sparky_R_lvl  Lava_Hound_L  \\\n",
       "0        Conclusion™               Zer0  ...         -1.0             0   \n",
       "1      Giants Takers             Gámez7  ...         -1.0             1   \n",
       "2       Clout Gaming        Happy Light  ...         -1.0             0   \n",
       "3              北京龙皇会              so ez  ...         -1.0             0   \n",
       "4       INDO Assault              ZEUS⤴  ...         -1.0             0   \n",
       "\n",
       "  Lava_Hound_R Lava_Hound_L_lvl  Lava_Hound_R_lvl  num_cards_L num_cards_R  \\\n",
       "0            0             -1.0              -1.0            8           8   \n",
       "1            0             11.0              -1.0            8           8   \n",
       "2            0             -1.0              -1.0            8           8   \n",
       "3            0             -1.0              -1.0            8           8   \n",
       "4            0             -1.0              -1.0            8           8   \n",
       "\n",
       "   avg_lvl_L  avg_lvl_R  level_discrepancy  \n",
       "0      10.75     10.250              0.500  \n",
       "1      12.25     12.500             -0.250  \n",
       "2      12.75     12.875             -0.125  \n",
       "3      13.00     12.000              1.000  \n",
       "4      12.25     12.000              0.250  \n",
       "\n",
       "[5 rows x 327 columns]"
      ]
     },
     "execution_count": 20,
     "metadata": {},
     "output_type": "execute_result"
    }
   ],
   "source": [
    "df_train.fillna(-1.0, inplace=True)\n",
    "df_train.head()"
   ]
  },
  {
   "cell_type": "code",
   "execution_count": 21,
   "metadata": {},
   "outputs": [],
   "source": [
    "cols_labels = ['winner']\n",
    "cols_features = [\n",
    "    'players.right.trophy',\n",
    "    'players.left.trophy',\n",
    "    'trophy.discrepancy',\n",
    "    'Skeletons_L', 'Skeletons_R', 'Skeletons_L_lvl', 'Skeletons_R_lvl',\n",
    "    'Ice_Spirit_L', 'Ice_Spirit_R', 'Ice_Spirit_L_lvl', 'Ice_Spirit_R_lvl', \n",
    "    'Goblins_L', 'Goblins_R', 'Goblins_L_lvl', 'Goblins_R_lvl', \n",
    "    'Spear_Goblins_L', 'Spear_Goblins_R', 'Spear_Goblins_L_lvl', 'Spear_Goblins_R_lvl', \n",
    "    'Zap_L', 'Zap_R', 'Zap_L_lvl', 'Zap_R_lvl', \n",
    "    'Bats_L', 'Bats_R', 'Bats_L_lvl', 'Bats_R_lvl', \n",
    "    'Fire_Spirits_L', 'Fire_Spirits_R', 'Fire_Spirits_L_lvl', 'Fire_Spirits_R_lvl', \n",
    "    'Archers_L', 'Archers_R', 'Archers_L_lvl', 'Archers_R_lvl', 'Arrows_L',\n",
    "    'Arrows_R', 'Arrows_L_lvl', 'Arrows_R_lvl', \n",
    "    'Knight_L', 'Knight_R', 'Knight_L_lvl', 'Knight_R_lvl', \n",
    "    'Minions_L', 'Minions_R', 'Minions_L_lvl', 'Minions_R_lvl', \n",
    "    'Bomber_L', 'Bomber_R', 'Bomber_L_lvl', 'Bomber_R_lvl', \n",
    "    'Cannon_L', 'Cannon_R', 'Cannon_L_lvl', 'Cannon_R_lvl', \n",
    "    'Goblin_Gang_L', 'Goblin_Gang_R', 'Goblin_Gang_L_lvl', 'Goblin_Gang_R_lvl', \n",
    "    'Mortar_L', 'Mortar_R', 'Mortar_L_lvl', 'Mortar_R_lvl', \n",
    "    'Tesla_L', 'Tesla_R', 'Tesla_L_lvl', 'Tesla_R_lvl', \n",
    "    'Barbarians_L', 'Barbarians_R', 'Barbarians_L_lvl', 'Barbarians_R_lvl', \n",
    "    'Minion_Horde_L', 'Minion_Horde_R', 'Minion_Horde_L_lvl', 'Minion_Horde_R_lvl',\n",
    "    'Royal_Giant_L', 'Royal_Giant_R', 'Royal_Giant_L_lvl', 'Royal_Giant_R_lvl', \n",
    "    'Elite_Barbarians_L', 'Elite_Barbarians_R', 'Elite_Barbarians_L_lvl', 'Elite_Barbarians_R_lvl', \n",
    "    'Heal_L', 'Heal_R', 'Heal_L_lvl', 'Heal_R_lvl', \n",
    "    'Ice_Golem_L', 'Ice_Golem_R', 'Ice_Golem_L_lvl', 'Ice_Golem_R_lvl', \n",
    "    'Tombstone_L', 'Tombstone_R', 'Tombstone_L_lvl', 'Tombstone_R_lvl', \n",
    "    'Mega_Minion_L', 'Mega_Minion_R', 'Mega_Minion_L_lvl', 'Mega_Minion_R_lvl',\n",
    "    'Dart_Goblin_L', 'Dart_Goblin_R', 'Dart_Goblin_L_lvl', 'Dart_Goblin_R_lvl', \n",
    "    'Fireball_L', 'Fireball_R', 'Fireball_L_lvl', 'Fireball_R_lvl', \n",
    "    'Mini_Pekka_L', 'Mini_Pekka_R', 'Mini_Pekka_L_lvl', 'Mini_Pekka_R_lvl', \n",
    "    'Musketeer_L', 'Musketeer_R', 'Musketeer_L_lvl', 'Musketeer_R_lvl', \n",
    "    'Hog_Rider_L', 'Hog_Rider_R', 'Hog_Rider_L_lvl', 'Hog_Rider_R_lvl', \n",
    "    'Valkyrie_L', 'Valkyrie_R', 'Valkyrie_L_lvl', 'Valkyrie_R_lvl', \n",
    "    'Battle_Ram_L', 'Battle_Ram_R', 'Battle_Ram_L_lvl', 'Battle_Ram_R_lvl',\n",
    "    'Furnace_L', 'Furnace_R', 'Furnace_L_lvl', 'Furnace_R_lvl',\n",
    "    'Flying_Machine_L', 'Flying_Machine_R', 'Flying_Machine_L_lvl', 'Flying_Machine_R_lvl', \n",
    "    'Bomb_Tower_L', 'Bomb_Tower_R', 'Bomb_Tower_L_lvl', 'Bomb_Tower_R_lvl', \n",
    "    'Giant_L', 'Giant_R', 'Giant_L_lvl', 'Giant_R_lvl', \n",
    "    'Goblin_Hut_L', 'Goblin_Hut_R', 'Goblin_Hut_L_lvl', 'Goblin_Hut_R_lvl', \n",
    "    'Inferno_Tower_L', 'Inferno_Tower_R', 'Inferno_Tower_L_lvl', 'Inferno_Tower_R_lvl',\n",
    "    'Wizard_L', 'Wizard_R', 'Wizard_L_lvl', 'Wizard_R_lvl', \n",
    "    'Rocket_L', 'Rocket_R', 'Rocket_L_lvl', 'Rocket_R_lvl', \n",
    "    'Elixir_Collector_L', 'Elixir_Collector_R', 'Elixir_Collector_L_lvl', 'Elixir_Collector_R_lvl', \n",
    "    'Barbarian_Hut_L', 'Barbarian_Hut_R', 'Barbarian_Hut_L_lvl', 'Barbarian_Hut_R_lvl', \n",
    "    'Three_Musketeers_L', 'Three_Musketeers_R', 'Three_Musketeers_L_lvl', 'Three_Musketeers_R_lvl', \n",
    "    'Mirror_L', 'Mirror_R', 'Mirror_L_lvl', 'Mirror_R_lvl', \n",
    "    'Rage_L', 'Rage_R', 'Rage_L_lvl', 'Rage_R_lvl',\n",
    "    'Skeleton_Army_L', 'Skeleton_Army_R', 'Skeleton_Army_L_lvl', 'Skeleton_Army_R_lvl', \n",
    "    'Goblin_Barrel_L', 'Goblin_Barrel_R', 'Goblin_Barrel_L_lvl', 'Goblin_Barrel_R_lvl', \n",
    "    'Tornado_L', 'Tornado_R', 'Tornado_L_lvl', 'Tornado_R_lvl', \n",
    "    'Guards_L', 'Guards_R', 'Guards_L_lvl', 'Guards_R_lvl', \n",
    "    'Clone_L', 'Clone_R', 'Clone_L_lvl', 'Clone_R_lvl', \n",
    "    'Baby_Dragon_L', 'Baby_Dragon_R', 'Baby_Dragon_L_lvl', 'Baby_Dragon_R_lvl', \n",
    "    'Hunter_L', 'Hunter_R', 'Hunter_L_lvl', 'Hunter_R_lvl', \n",
    "    'Poison_L', 'Poison_R', 'Poison_L_lvl', 'Poison_R_lvl', \n",
    "    'Dark_Prince_L', 'Dark_Prince_R', 'Dark_Prince_L_lvl', 'Dark_Prince_R_lvl', \n",
    "    'Freeze_L', 'Freeze_R', 'Freeze_L_lvl', 'Freeze_R_lvl', \n",
    "    'Prince_L', 'Prince_R', 'Prince_L_lvl', 'Prince_R_lvl', \n",
    "    'Witch_L', 'Witch_R', 'Witch_L_lvl', 'Witch_R_lvl', \n",
    "    'Balloon_L', 'Balloon_R', 'Balloon_L_lvl', 'Balloon_R_lvl', \n",
    "    'Bowler_L', 'Bowler_R', 'Bowler_L_lvl', 'Bowler_R_lvl', \n",
    "    'Executioner_L', 'Executioner_R', 'Executioner_L_lvl', 'Executioner_R_lvl', \n",
    "    'Giant_Skeleton_L', 'Giant_Skeleton_R', 'Giant_Skeleton_L_lvl', 'Giant_Skeleton_R_lvl',\n",
    "    'Lightning_L', 'Lightning_R', 'Lightning_L_lvl', 'Lightning_R_lvl',\n",
    "    'X_Bow_L', 'X_Bow_R', 'X_Bow_L_lvl', 'X_Bow_R_lvl', \n",
    "    'PEKKA_L', 'PEKKA_R', 'PEKKA_L_lvl', 'PEKKA_R_lvl', \n",
    "    'Golem_L', 'Golem_R', 'Golem_L_lvl', 'Golem_R_lvl', \n",
    "    'The_Log_L', 'The_Log_R', 'The_Log_L_lvl', 'The_Log_R_lvl', \n",
    "    'Miner_L', 'Miner_R', 'Miner_L_lvl', 'Miner_R_lvl', \n",
    "    'Princess_L', 'Princess_R', 'Princess_L_lvl', 'Princess_R_lvl', \n",
    "    'Ice_Wizard_L', 'Ice_Wizard_R', 'Ice_Wizard_L_lvl', 'Ice_Wizard_R_lvl', \n",
    "    'Bandit_L', 'Bandit_R', 'Bandit_L_lvl', 'Bandit_R_lvl', \n",
    "    'Night_Witch_L', 'Night_Witch_R', 'Night_Witch_L_lvl', 'Night_Witch_R_lvl', \n",
    "    'Inferno_Dragon_L', 'Inferno_Dragon_R', 'Inferno_Dragon_L_lvl', 'Inferno_Dragon_R_lvl',\n",
    "    'Lumberjack_L', 'Lumberjack_R', 'Lumberjack_L_lvl', 'Lumberjack_R_lvl', \n",
    "    'Electro_Wizard_L', 'Electro_Wizard_R', 'Electro_Wizard_L_lvl', 'Electro_Wizard_R_lvl', \n",
    "    'Graveyard_L', 'Graveyard_R', 'Graveyard_L_lvl', 'Graveyard_R_lvl', \n",
    "    'Sparky_L', 'Sparky_R', 'Sparky_L_lvl', 'Sparky_R_lvl', \n",
    "    'Lava_Hound_L', 'Lava_Hound_R', 'Lava_Hound_L_lvl', 'Lava_Hound_R_lvl'\n",
    "]"
   ]
  },
  {
   "cell_type": "code",
   "execution_count": 36,
   "metadata": {},
   "outputs": [],
   "source": [
    "X = df_train[cols_features].to_numpy()"
   ]
  },
  {
   "cell_type": "code",
   "execution_count": 31,
   "metadata": {},
   "outputs": [
    {
     "name": "stdout",
     "output_type": "stream",
     "text": [
      "[0 0 0 ... 0 0 0]\n"
     ]
    }
   ],
   "source": [
    "# Map target values\n",
    "# 'left': 0\n",
    "# 'right': 1\n",
    "y = np.ravel(np.where( df_train[cols_labels] == 'left', 0, 1 ))\n",
    "print(y)"
   ]
  },
  {
   "cell_type": "code",
   "execution_count": 25,
   "metadata": {},
   "outputs": [],
   "source": [
    "from sklearn.linear_model import LogisticRegression"
   ]
  },
  {
   "cell_type": "code",
   "execution_count": 40,
   "metadata": {},
   "outputs": [],
   "source": [
    "clf = LogisticRegression(random_state=0, max_iter=1000).fit(X, y)"
   ]
  },
  {
   "cell_type": "code",
   "execution_count": 42,
   "metadata": {},
   "outputs": [
    {
     "data": {
      "text/plain": [
       "array([0, 0, 0, 1, 1, 0, 1, 0, 0, 0])"
      ]
     },
     "execution_count": 42,
     "metadata": {},
     "output_type": "execute_result"
    }
   ],
   "source": [
    "clf.predict(X[:10, :])"
   ]
  },
  {
   "cell_type": "code",
   "execution_count": 43,
   "metadata": {},
   "outputs": [
    {
     "data": {
      "text/plain": [
       "array([0, 0, 0, 1, 1, 0, 1, 0, 0, 0])"
      ]
     },
     "execution_count": 43,
     "metadata": {},
     "output_type": "execute_result"
    }
   ],
   "source": [
    "y[:10]"
   ]
  },
  {
   "cell_type": "code",
   "execution_count": null,
   "metadata": {},
   "outputs": [],
   "source": []
  }
 ],
 "metadata": {
  "kernelspec": {
   "display_name": "Python 3",
   "language": "python",
   "name": "python3"
  },
  "language_info": {
   "codemirror_mode": {
    "name": "ipython",
    "version": 3
   },
   "file_extension": ".py",
   "mimetype": "text/x-python",
   "name": "python",
   "nbconvert_exporter": "python",
   "pygments_lexer": "ipython3",
   "version": "3.7.3"
  }
 },
 "nbformat": 4,
 "nbformat_minor": 4
}
